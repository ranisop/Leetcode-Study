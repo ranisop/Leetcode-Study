{
 "cells": [
  {
   "cell_type": "markdown",
   "id": "b3ce75df-9f01-4825-84a5-fe0dfe286d3a",
   "metadata": {},
   "source": [
    "### 1523. Count Odd Numbers in an Interval Range"
   ]
  },
  {
   "cell_type": "markdown",
   "id": "8717c314-9017-4e92-a5b3-8521a981983e",
   "metadata": {},
   "source": [
    "Given two non-negative integers low and high. Return the count of odd numbers between low and high (inclusive)."
   ]
  },
  {
   "cell_type": "markdown",
   "id": "e0f327b0-e122-4088-97ba-88088f54dc68",
   "metadata": {},
   "source": [
    "* Example 1:\n",
    "\n",
    "> **Input:** low = 3, high = 7   \n",
    "> **Output:** 3   \n",
    "> **Explanation:** The odd numbers between 3 and 7 are [3,5,7].   \n",
    "\n",
    "* Example 2:\n",
    "\n",
    "> **Input:** low = 8, high = 10    \n",
    "> **Output:** 1    \n",
    "> **Explanation:** The odd numbers between 8 and 10 are [9].   \n",
    "\n",
    "* Constraints:  \n",
    "\n",
    "> 0 <= low <= high <= 10^9\n"
   ]
  },
  {
   "cell_type": "code",
   "execution_count": null,
   "id": "b8661c8c-d6a8-44ef-a421-aa071eba20d8",
   "metadata": {},
   "outputs": [],
   "source": [
    "# LeetCode \n",
    "\n",
    "class Solution:\n",
    "    def countOdds(self, low: int, high: int) -> int:\n",
    "        if (high%2 == 0):\n",
    "            result = high//2 - low//2\n",
    "        else:\n",
    "            result = (high+1)//2 - low//2\n",
    "        return (result)"
   ]
  },
  {
   "cell_type": "code",
   "execution_count": 9,
   "id": "93399b18-2286-42d4-86bc-5b0ed9aa0427",
   "metadata": {},
   "outputs": [
    {
     "name": "stdout",
     "output_type": "stream",
     "text": [
      "3\n"
     ]
    }
   ],
   "source": [
    "# JupyterLab_Example 1\n",
    "\n",
    "def countOdds(low: int, high: int) -> int:\n",
    "    if (high%2 == 0):\n",
    "        result = high//2 - low//2\n",
    "    else:\n",
    "        result = (high+1)//2 - low//2\n",
    "    print(result)\n",
    "    return (result)\n",
    "\n",
    "if __name__ == '__main__':\n",
    "    assert countOdds(1,5)"
   ]
  },
  {
   "cell_type": "code",
   "execution_count": 12,
   "id": "d69bce07-2c1a-40f7-a083-fdadf32cbd59",
   "metadata": {},
   "outputs": [
    {
     "name": "stdout",
     "output_type": "stream",
     "text": [
      "1\n"
     ]
    }
   ],
   "source": [
    "# JupyterLab_Example 2\n",
    "\n",
    "def countOdds(low: int, high: int) -> int:\n",
    "    if (high%2 == 0):\n",
    "        result = high//2 - low//2\n",
    "    else:\n",
    "        result = (high+1)//2 - low//2\n",
    "    print(result)\n",
    "    return (result)\n",
    "\n",
    "if __name__ == '__main__':\n",
    "    assert countOdds(8,10)"
   ]
  },
  {
   "cell_type": "markdown",
   "id": "fbab8925-ce22-4770-89d9-4284195d66d6",
   "metadata": {},
   "source": [
    "### 1491. Average Salary Excluding the Minimum and Maximum Salary"
   ]
  },
  {
   "cell_type": "markdown",
   "id": "a96ab3ac-cfa6-4631-b6ca-6ff3c281a66f",
   "metadata": {},
   "source": [
    "You are given an array of unique integers salary where salary[i] is the salary of the ith employee.\n",
    "\n",
    "Return the average salary of employees excluding the minimum and maximum salary. Answers within 10-5 of the actual answer will be accepted."
   ]
  },
  {
   "cell_type": "markdown",
   "id": "7ae76d39-ddaf-49a3-a0e0-74f03789a463",
   "metadata": {},
   "source": [
    "* Example 1:\n",
    "\n",
    "> **Input:** salary = [4000,3000,1000,2000]    \n",
    "> **Output:** 2500.00000    \n",
    "> **Explanation:** Minimum salary and maximum salary are 1000 and 4000 respectively.    \n",
    "> Average salary excluding minimum and maximum salary is (2000+3000) / 2 = 2500    \n",
    " \n",
    "* Example 2:  \n",
    "\n",
    "> **Input:** salary = [1000,2000,3000]    \n",
    "> **Output:** 2000.00000    \n",
    "> **Explanation:** Minimum salary and maximum salary are 1000 and 3000 respectively.    \n",
    "> Average salary excluding minimum and maximum salary is (2000) / 1 = 2000    \n",
    "\n",
    "* Constraints: \n",
    "\n",
    "> ▪︎ 3 <= salary.length <= 100    \n",
    "> ▪︎ 1000 <= salary[i] <= 106    \n",
    "> ▪︎ All the integers of salary are unique."
   ]
  },
  {
   "cell_type": "code",
   "execution_count": null,
   "id": "2c0ecb56-5bcc-46cd-be61-c3f977e06ba3",
   "metadata": {
    "tags": []
   },
   "outputs": [],
   "source": [
    "# LeetCode \n",
    "\n",
    "class Solution:\n",
    "    def average(self, salary: List[int]) -> float:        \n",
    "        total = sum(salary) - min(salary) - max(salary)\n",
    "        l = len(salary)-2\n",
    "        return total/l"
   ]
  },
  {
   "cell_type": "code",
   "execution_count": 4,
   "id": "f59db08e-0c4c-4ef4-8eb7-b7710f3b9166",
   "metadata": {
    "tags": []
   },
   "outputs": [
    {
     "name": "stdout",
     "output_type": "stream",
     "text": [
      "2500.0\n"
     ]
    }
   ],
   "source": [
    "# JupyterLab_Example 1\n",
    "\n",
    "from typing import List\n",
    "def average(salary: List[int]) -> float:        \n",
    "    total = sum(salary) - min(salary) - max(salary)\n",
    "    l = len(salary)-2\n",
    "    print(total/l)\n",
    "    return total/l\n",
    "\n",
    "\n",
    "if __name__ == '__main__':\n",
    "    assert average([4000,3000,1000,2000])"
   ]
  },
  {
   "cell_type": "code",
   "execution_count": 5,
   "id": "3afd6468-3986-4572-9289-087bf4263f5e",
   "metadata": {},
   "outputs": [
    {
     "name": "stdout",
     "output_type": "stream",
     "text": [
      "2000.0\n"
     ]
    }
   ],
   "source": [
    "# JupyterLab_Example 2\n",
    "\n",
    "from typing import List\n",
    "def average(salary: List[int]) -> float:        \n",
    "    total = sum(salary) - min(salary) - max(salary)\n",
    "    l = len(salary)-2\n",
    "    print(total/l)\n",
    "    return total/l\n",
    "\n",
    "\n",
    "if __name__ == '__main__':\n",
    "    assert average([1000,2000,3000])"
   ]
  },
  {
   "cell_type": "code",
   "execution_count": null,
   "id": "c16dee9c-d5b4-46a7-99e6-2f07988d8fe0",
   "metadata": {},
   "outputs": [],
   "source": []
  }
 ],
 "metadata": {
  "kernelspec": {
   "display_name": "Python 3",
   "language": "python",
   "name": "python3"
  },
  "language_info": {
   "codemirror_mode": {
    "name": "ipython",
    "version": 3
   },
   "file_extension": ".py",
   "mimetype": "text/x-python",
   "name": "python",
   "nbconvert_exporter": "python",
   "pygments_lexer": "ipython3",
   "version": "3.8.8"
  }
 },
 "nbformat": 4,
 "nbformat_minor": 5
}
